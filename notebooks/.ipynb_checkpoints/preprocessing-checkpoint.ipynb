{
 "cells": [
  {
   "cell_type": "code",
   "execution_count": 5,
   "id": "29a8ce0d-5447-40e3-b0c8-3c0f8a31f16e",
   "metadata": {
    "execution": {
     "iopub.execute_input": "2024-01-23T11:16:37.845585Z",
     "iopub.status.busy": "2024-01-23T11:16:37.845333Z",
     "iopub.status.idle": "2024-01-23T11:16:37.851588Z",
     "shell.execute_reply": "2024-01-23T11:16:37.850325Z",
     "shell.execute_reply.started": "2024-01-23T11:16:37.845567Z"
    },
    "tags": []
   },
   "outputs": [
    {
     "name": "stdout",
     "output_type": "stream",
     "text": [
      "/home/jovyan/ai-platform-volumes/zeroman0112/repos/spade_for_baemin_menu_kie\n"
     ]
    }
   ],
   "source": [
    "import sys\n",
    "import os\n",
    "import json\n",
    "from pathlib import Path\n",
    "\n",
    "import numpy as np\n",
    "\n",
    "parent_dir = os.path.dirname(os.getcwd())\n",
    "print(parent_dir)\n",
    "sys.path.append(parent_dir)\n",
    "\n",
    "# Now you can import the module\n",
    "import spade.utils.general_utils as gu\n",
    "import spade.model.data_utils as du\n",
    "from spade.utils.config_manager import ConfigManager\n",
    "from spade.model.data_module import SpadeDataModule, SpadeData, get_data"
   ]
  },
  {
   "cell_type": "code",
   "execution_count": 2,
   "id": "f06a9265-a620-4444-b9b3-b15a72ce0fc8",
   "metadata": {
    "execution": {
     "iopub.execute_input": "2024-01-16T06:40:09.723880Z",
     "iopub.status.busy": "2024-01-16T06:40:09.723495Z",
     "iopub.status.idle": "2024-01-16T06:40:09.741764Z",
     "shell.execute_reply": "2024-01-16T06:40:09.741118Z",
     "shell.execute_reply.started": "2024-01-16T06:40:09.723857Z"
    },
    "tags": []
   },
   "outputs": [],
   "source": [
    "config_dir = f\"{parent_dir}/configs\"\n",
    "data_dir = f\"{parent_dir}/data\"\n",
    "# path_config_file = f\"{config_dir}/cord.1.5layers.train.yaml\"\n",
    "path_config_file = f\"{config_dir}/cord.1.5layers.train.yaml\"\n",
    "\n",
    "config_manager = ConfigManager(config_dir, path_config_file)\n",
    "cfg = config_manager.cfg\n",
    "cfg.path_data_folder = Path(data_dir)"
   ]
  },
  {
   "cell_type": "code",
   "execution_count": 3,
   "id": "800d9244-06a1-49e6-80b3-e1de5e55279d",
   "metadata": {
    "execution": {
     "iopub.execute_input": "2024-01-16T06:40:09.742687Z",
     "iopub.status.busy": "2024-01-16T06:40:09.742514Z",
     "iopub.status.idle": "2024-01-16T06:40:10.301701Z",
     "shell.execute_reply": "2024-01-16T06:40:10.300937Z",
     "shell.execute_reply.started": "2024-01-16T06:40:09.742670Z"
    },
    "tags": []
   },
   "outputs": [],
   "source": [
    "fpath = cfg.path_data_folder / cfg.data_paths[\"train\"]\n",
    "raw_data = gu.load_jsonl(fpath, cfg[\"toy_data\"], cfg[\"toy_size\"])\n"
   ]
  },
  {
   "cell_type": "code",
   "execution_count": 4,
   "id": "ed175290-672f-40fa-95e5-ddb03ce6972f",
   "metadata": {
    "execution": {
     "iopub.execute_input": "2024-01-16T06:40:10.303558Z",
     "iopub.status.busy": "2024-01-16T06:40:10.303362Z",
     "iopub.status.idle": "2024-01-16T06:40:10.308532Z",
     "shell.execute_reply": "2024-01-16T06:40:10.307899Z",
     "shell.execute_reply.started": "2024-01-16T06:40:10.303539Z"
    },
    "tags": []
   },
   "outputs": [
    {
     "name": "stdout",
     "output_type": "stream",
     "text": [
      "dict_keys(['data_id', 'fields', 'field_rs', 'text', 'label', 'coord', 'vertical', 'img_sz', 'img_feature', 'img_url'])\n"
     ]
    }
   ],
   "source": [
    "# json_string = json.dumps(raw_data[0], indent=4)\n",
    "# print(json_string)\n",
    "\n",
    "data = raw_data[0]\n",
    "print(data.keys())\n",
    "text = data[\"text\"]\n",
    "fields = data[\"fields\"]\n",
    "field_rs = data[\"field_rs\"]\n",
    "vertical = data[\"vertical\"]\n",
    "label = np.array(data[\"label\"])\n",
    "coord = np.array(data[\"coord\"])\n",
    "image_size = data[\"img_sz\"]\n",
    "\n",
    "n_fields = len(fields)"
   ]
  },
  {
   "cell_type": "code",
   "execution_count": 5,
   "id": "85292c6d-b5ed-4675-8ed0-58f145607269",
   "metadata": {
    "execution": {
     "iopub.execute_input": "2024-01-16T06:40:10.309369Z",
     "iopub.status.busy": "2024-01-16T06:40:10.309201Z",
     "iopub.status.idle": "2024-01-16T06:40:10.316800Z",
     "shell.execute_reply": "2024-01-16T06:40:10.316054Z",
     "shell.execute_reply.started": "2024-01-16T06:40:10.309353Z"
    },
    "tags": []
   },
   "outputs": [
    {
     "name": "stdout",
     "output_type": "stream",
     "text": [
      "n_fields: 41\n",
      "n_texts: 9\n",
      "(2, 50, 9)\n",
      "(9, 4, 2)\n",
      "9\n",
      "{'width': 1108, 'height': 1478}\n"
     ]
    }
   ],
   "source": [
    "print(f\"n_fields: {len(fields)}\")\n",
    "print(f\"n_texts: {len(text)}\")\n",
    "\n",
    "print(label.shape)\n",
    "print(coord.shape)\n",
    "print(len(vertical))\n",
    "# print(coord)\n",
    "print(image_size)"
   ]
  },
  {
   "cell_type": "code",
   "execution_count": 6,
   "id": "7a80ed88-1a92-400a-aa6c-1e61e1c58e7b",
   "metadata": {
    "execution": {
     "iopub.execute_input": "2024-01-16T06:40:10.317665Z",
     "iopub.status.busy": "2024-01-16T06:40:10.317503Z",
     "iopub.status.idle": "2024-01-16T06:40:10.322884Z",
     "shell.execute_reply": "2024-01-16T06:40:10.322233Z",
     "shell.execute_reply.started": "2024-01-16T06:40:10.317650Z"
    },
    "tags": []
   },
   "outputs": [
    {
     "name": "stdout",
     "output_type": "stream",
     "text": [
      "[[[ 250  833]\n",
      "  [ 325  834]\n",
      "  [ 325  869]\n",
      "  [ 250  868]]\n",
      "\n",
      " [[ 340  832]\n",
      "  [ 434  833]\n",
      "  [ 433  868]\n",
      "  [ 339  867]]\n",
      "\n",
      " [[ 217  835]\n",
      "  [ 227  834]\n",
      "  [ 228  869]\n",
      "  [ 217  869]]\n",
      "\n",
      " [[ 841  824]\n",
      "  [ 954  824]\n",
      "  [ 954  864]\n",
      "  [ 841  864]]\n",
      "\n",
      " [[ 249  921]\n",
      "  [ 342  920]\n",
      "  [ 344  990]\n",
      "  [ 249  992]]\n",
      "\n",
      " [[ 844  920]\n",
      "  [ 959  920]\n",
      "  [ 959  991]\n",
      "  [ 844  991]]\n",
      "\n",
      " [[ 173 1045]\n",
      "  [ 326 1044]\n",
      "  [ 326 1111]\n",
      "  [ 173 1114]]\n",
      "\n",
      " [[ 733 1041]\n",
      "  [ 960 1041]\n",
      "  [ 960 1117]\n",
      "  [ 733 1117]]\n",
      "\n",
      " [[ 212  925]\n",
      "  [ 230  926]\n",
      "  [ 227  993]\n",
      "  [ 213  994]]]\n"
     ]
    }
   ],
   "source": [
    "print(coord)"
   ]
  },
  {
   "cell_type": "code",
   "execution_count": 7,
   "id": "651e907e-d64b-45e6-b232-23de2181036e",
   "metadata": {
    "execution": {
     "iopub.execute_input": "2024-01-16T06:40:10.323678Z",
     "iopub.status.busy": "2024-01-16T06:40:10.323521Z",
     "iopub.status.idle": "2024-01-16T06:40:10.333368Z",
     "shell.execute_reply": "2024-01-16T06:40:10.332722Z",
     "shell.execute_reply.started": "2024-01-16T06:40:10.323663Z"
    },
    "tags": []
   },
   "outputs": [
    {
     "data": {
      "text/plain": [
       "'type1'"
      ]
     },
     "execution_count": 7,
     "metadata": {},
     "output_type": "execute_result"
    }
   ],
   "source": [
    "cfg.raw_data_input_type"
   ]
  },
  {
   "cell_type": "code",
   "execution_count": 8,
   "id": "d671a881-84b9-4b41-93e2-f3ea4945ff93",
   "metadata": {
    "execution": {
     "iopub.execute_input": "2024-01-16T06:40:10.334408Z",
     "iopub.status.busy": "2024-01-16T06:40:10.334226Z",
     "iopub.status.idle": "2024-01-16T06:40:10.617478Z",
     "shell.execute_reply": "2024-01-16T06:40:10.616652Z",
     "shell.execute_reply.started": "2024-01-16T06:40:10.334393Z"
    },
    "tags": []
   },
   "outputs": [],
   "source": [
    "data_module = SpadeDataModule(cfg)"
   ]
  },
  {
   "cell_type": "code",
   "execution_count": 9,
   "id": "3ce5a9ab-7c1f-43c0-8609-cd0e35345b2c",
   "metadata": {
    "execution": {
     "iopub.execute_input": "2024-01-16T06:40:10.618645Z",
     "iopub.status.busy": "2024-01-16T06:40:10.618422Z",
     "iopub.status.idle": "2024-01-16T06:40:10.623286Z",
     "shell.execute_reply": "2024-01-16T06:40:10.622571Z",
     "shell.execute_reply.started": "2024-01-16T06:40:10.618624Z"
    },
    "tags": []
   },
   "outputs": [
    {
     "name": "stdout",
     "output_type": "stream",
     "text": [
      "['안', '##녕', '##하', '##세', '##요', '.', '바', '##나', '##나']\n"
     ]
    }
   ],
   "source": [
    "input_text = \"안녕하세요. 바나나\"\n",
    "tokenizer = data_module.tokenizer\n",
    "input_tokens = tokenizer.tokenize(input_text)\n",
    "\n",
    "print(input_tokens)"
   ]
  },
  {
   "cell_type": "code",
   "execution_count": 10,
   "id": "724bfdf5-59cd-4a7a-a461-7f79d49dc38c",
   "metadata": {
    "execution": {
     "iopub.execute_input": "2024-01-16T06:40:10.625314Z",
     "iopub.status.busy": "2024-01-16T06:40:10.625099Z",
     "iopub.status.idle": "2024-01-16T06:40:11.656702Z",
     "shell.execute_reply": "2024-01-16T06:40:11.655894Z",
     "shell.execute_reply.started": "2024-01-16T06:40:10.625284Z"
    },
    "tags": []
   },
   "outputs": [
    {
     "name": "stdout",
     "output_type": "stream",
     "text": [
      "type1\n",
      "type1\n",
      "['안', '##녕', '##하', '##세', '##요', '.', '##나', '##나', '##CT', '472']\n"
     ]
    }
   ],
   "source": [
    "# pytorch Dataset object\n",
    "train_data, dev_data = data_module._prepare_train_data()\n",
    "\n",
    "# text token augmentation\n",
    "input_tokens_aug = du.gen_augmented_text_tok1(\n",
    "    train_data.token_pool, input_tokens, train_data.token_aug_param\n",
    ")\n",
    "\n",
    "print(input_tokens_aug)\n",
    "\n",
    "# 이 정도 결과면 augmentation 안하는게 나을거 같은데.."
   ]
  },
  {
   "cell_type": "code",
   "execution_count": 11,
   "id": "e7120362-81e4-4def-9527-098ef494e7bb",
   "metadata": {
    "execution": {
     "iopub.execute_input": "2024-01-16T06:40:11.657878Z",
     "iopub.status.busy": "2024-01-16T06:40:11.657671Z",
     "iopub.status.idle": "2024-01-16T06:40:11.663201Z",
     "shell.execute_reply": "2024-01-16T06:40:11.662553Z",
     "shell.execute_reply.started": "2024-01-16T06:40:11.657859Z"
    },
    "tags": []
   },
   "outputs": [],
   "source": [
    "_, coord = du.gen_augmented_coord(\n",
    "    img=None, coord=coord, img_sz=image_size, coord_aug_params=train_data.coord_aug_params, clip_box_coord=True\n",
    ")"
   ]
  },
  {
   "cell_type": "code",
   "execution_count": 12,
   "id": "3752705a-f63a-4885-9f68-a477150cc3c1",
   "metadata": {
    "execution": {
     "iopub.execute_input": "2024-01-16T06:40:11.664109Z",
     "iopub.status.busy": "2024-01-16T06:40:11.663935Z",
     "iopub.status.idle": "2024-01-16T06:40:11.671934Z",
     "shell.execute_reply": "2024-01-16T06:40:11.671284Z",
     "shell.execute_reply.started": "2024-01-16T06:40:11.664092Z"
    },
    "tags": []
   },
   "outputs": [
    {
     "name": "stdout",
     "output_type": "stream",
     "text": [
      "(9, 4, 2)\n"
     ]
    }
   ],
   "source": [
    "print(np.array(coord).shape)"
   ]
  },
  {
   "cell_type": "code",
   "execution_count": 13,
   "id": "39010e39-38ce-48c9-a33e-08b72fa7de52",
   "metadata": {
    "execution": {
     "iopub.execute_input": "2024-01-16T06:40:11.673061Z",
     "iopub.status.busy": "2024-01-16T06:40:11.672886Z",
     "iopub.status.idle": "2024-01-16T06:40:11.681529Z",
     "shell.execute_reply": "2024-01-16T06:40:11.680636Z",
     "shell.execute_reply.started": "2024-01-16T06:40:11.673044Z"
    },
    "tags": []
   },
   "outputs": [
    {
     "data": {
      "text/plain": [
       "array([1, 2, 3, 1, 2, 3])"
      ]
     },
     "execution_count": 13,
     "metadata": {},
     "output_type": "execute_result"
    }
   ],
   "source": [
    "arr = np.array([1,2,3,0,1,2,3,0])\n",
    "arr[arr != 0]"
   ]
  },
  {
   "cell_type": "code",
   "execution_count": 14,
   "id": "c037eca2-73b7-463a-b084-e5abc4832d3d",
   "metadata": {
    "execution": {
     "iopub.execute_input": "2024-01-16T06:40:11.682711Z",
     "iopub.status.busy": "2024-01-16T06:40:11.682517Z",
     "iopub.status.idle": "2024-01-16T06:40:11.692508Z",
     "shell.execute_reply": "2024-01-16T06:40:11.691831Z",
     "shell.execute_reply.started": "2024-01-16T06:40:11.682692Z"
    },
    "tags": []
   },
   "outputs": [
    {
     "name": "stdout",
     "output_type": "stream",
     "text": [
      "[0 1 0 0 0 0 0 0 0]\n"
     ]
    },
    {
     "data": {
      "text/plain": [
       "(array([1]),)"
      ]
     },
     "execution_count": 14,
     "metadata": {},
     "output_type": "execute_result"
    }
   ],
   "source": [
    "row_pointer = n_fields\n",
    "rel_idx = 1 \n",
    "label_sub = label[0]\n",
    "\n",
    "print(label_sub[row_pointer])\n",
    "\n",
    "np.where(label_sub[row_pointer] == rel_idx)"
   ]
  },
  {
   "cell_type": "code",
   "execution_count": 15,
   "id": "285a8716-9e2e-490d-b145-cb8488fcf73a",
   "metadata": {
    "execution": {
     "iopub.execute_input": "2024-01-16T10:58:51.147119Z",
     "iopub.status.busy": "2024-01-16T10:58:51.146154Z",
     "iopub.status.idle": "2024-01-16T10:58:51.151586Z",
     "shell.execute_reply": "2024-01-16T10:58:51.150973Z",
     "shell.execute_reply.started": "2024-01-16T10:58:51.147094Z"
    }
   },
   "outputs": [
    {
     "data": {
      "text/plain": [
       "True"
      ]
     },
     "execution_count": 15,
     "metadata": {},
     "output_type": "execute_result"
    }
   ],
   "source": [
    "[] is not None"
   ]
  },
  {
   "cell_type": "code",
   "execution_count": 3,
   "id": "cc70efea-26ae-489d-84a9-65860bd4fd96",
   "metadata": {
    "execution": {
     "iopub.execute_input": "2024-01-18T12:51:02.066306Z",
     "iopub.status.busy": "2024-01-18T12:51:02.066057Z",
     "iopub.status.idle": "2024-01-18T12:51:02.070472Z",
     "shell.execute_reply": "2024-01-18T12:51:02.069761Z",
     "shell.execute_reply.started": "2024-01-18T12:51:02.066287Z"
    },
    "tags": []
   },
   "outputs": [],
   "source": [
    "direc_vec = np.array([10, 10])\n",
    "coords = [direc_vec] * 4\n"
   ]
  },
  {
   "cell_type": "code",
   "execution_count": 6,
   "id": "4d0d33c6-2e72-4472-959a-f38575a73460",
   "metadata": {
    "execution": {
     "iopub.execute_input": "2024-01-18T12:52:08.910656Z",
     "iopub.status.busy": "2024-01-18T12:52:08.910359Z",
     "iopub.status.idle": "2024-01-18T12:52:08.916391Z",
     "shell.execute_reply": "2024-01-18T12:52:08.915688Z",
     "shell.execute_reply.started": "2024-01-18T12:52:08.910634Z"
    },
    "tags": []
   },
   "outputs": [
    {
     "name": "stdout",
     "output_type": "stream",
     "text": [
      "[array([10, 10]), array([10, 10]), array([10, 10]), array([10, 10])]\n"
     ]
    },
    {
     "data": {
      "text/plain": [
       "array([[20, 20],\n",
       "       [20, 20],\n",
       "       [20, 20],\n",
       "       [20, 20]])"
      ]
     },
     "execution_count": 6,
     "metadata": {},
     "output_type": "execute_result"
    }
   ],
   "source": [
    "print(coords)\n",
    "coords + direc_vec"
   ]
  },
  {
   "cell_type": "code",
   "execution_count": null,
   "id": "7146f00f-625f-4082-9e08-cbf211aa034c",
   "metadata": {},
   "outputs": [],
   "source": []
  }
 ],
 "metadata": {
  "kernelspec": {
   "display_name": "spade",
   "language": "python",
   "name": "spade"
  },
  "language_info": {
   "codemirror_mode": {
    "name": "ipython",
    "version": 3
   },
   "file_extension": ".py",
   "mimetype": "text/x-python",
   "name": "python",
   "nbconvert_exporter": "python",
   "pygments_lexer": "ipython3",
   "version": "3.9.6"
  }
 },
 "nbformat": 4,
 "nbformat_minor": 5
}
