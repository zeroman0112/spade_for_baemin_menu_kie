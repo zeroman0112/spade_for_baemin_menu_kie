{
 "cells": [
  {
   "cell_type": "code",
   "execution_count": 1,
   "id": "29a8ce0d-5447-40e3-b0c8-3c0f8a31f16e",
   "metadata": {
    "execution": {
     "iopub.execute_input": "2024-01-16T02:52:35.473048Z",
     "iopub.status.busy": "2024-01-16T02:52:35.472744Z",
     "iopub.status.idle": "2024-01-16T02:52:40.926452Z",
     "shell.execute_reply": "2024-01-16T02:52:40.925641Z",
     "shell.execute_reply.started": "2024-01-16T02:52:35.473026Z"
    },
    "tags": []
   },
   "outputs": [
    {
     "name": "stderr",
     "output_type": "stream",
     "text": [
      "/home/jovyan/.local/envs/spade/lib/python3.9/site-packages/tqdm/auto.py:21: TqdmWarning: IProgress not found. Please update jupyter and ipywidgets. See https://ipywidgets.readthedocs.io/en/stable/user_install.html\n",
      "  from .autonotebook import tqdm as notebook_tqdm\n"
     ]
    }
   ],
   "source": [
    "import sys\n",
    "import os\n",
    "import json\n",
    "from pathlib import Path\n",
    "\n",
    "import numpy as np\n",
    "\n",
    "parent_dir = os.path.dirname(os.getcwd())\n",
    "sys.path.append(parent_dir)\n",
    "\n",
    "# Now you can import the module\n",
    "import spade.utils.general_utils as gu\n",
    "import spade.model.data_utils as du\n",
    "from spade.utils.config_manager import ConfigManager\n",
    "from spade.model.data_module import SpadeDataModule, SpadeData, get_data"
   ]
  },
  {
   "cell_type": "code",
   "execution_count": 2,
   "id": "f06a9265-a620-4444-b9b3-b15a72ce0fc8",
   "metadata": {
    "execution": {
     "iopub.execute_input": "2024-01-16T02:52:40.928190Z",
     "iopub.status.busy": "2024-01-16T02:52:40.927818Z",
     "iopub.status.idle": "2024-01-16T02:52:40.945340Z",
     "shell.execute_reply": "2024-01-16T02:52:40.944748Z",
     "shell.execute_reply.started": "2024-01-16T02:52:40.928163Z"
    },
    "tags": []
   },
   "outputs": [],
   "source": [
    "config_dir = f\"{parent_dir}/configs\"\n",
    "data_dir = f\"{parent_dir}/data\"\n",
    "path_config_file = f\"{config_dir}/cord.1.5layers.train.yaml\"\n",
    "\n",
    "config_manager = ConfigManager(config_dir, path_config_file)\n",
    "cfg = config_manager.cfg\n",
    "cfg.path_data_folder = Path(data_dir)"
   ]
  },
  {
   "cell_type": "code",
   "execution_count": 3,
   "id": "800d9244-06a1-49e6-80b3-e1de5e55279d",
   "metadata": {
    "execution": {
     "iopub.execute_input": "2024-01-16T02:52:40.946180Z",
     "iopub.status.busy": "2024-01-16T02:52:40.946012Z",
     "iopub.status.idle": "2024-01-16T02:52:41.479774Z",
     "shell.execute_reply": "2024-01-16T02:52:41.478939Z",
     "shell.execute_reply.started": "2024-01-16T02:52:40.946164Z"
    },
    "tags": []
   },
   "outputs": [],
   "source": [
    "fpath = cfg.path_data_folder / cfg.data_paths[\"train\"]\n",
    "raw_data = gu.load_jsonl(fpath, cfg[\"toy_data\"], cfg[\"toy_size\"])\n"
   ]
  },
  {
   "cell_type": "code",
   "execution_count": 4,
   "id": "ed175290-672f-40fa-95e5-ddb03ce6972f",
   "metadata": {
    "execution": {
     "iopub.execute_input": "2024-01-16T02:52:41.481476Z",
     "iopub.status.busy": "2024-01-16T02:52:41.481279Z",
     "iopub.status.idle": "2024-01-16T02:52:41.486413Z",
     "shell.execute_reply": "2024-01-16T02:52:41.485824Z",
     "shell.execute_reply.started": "2024-01-16T02:52:41.481457Z"
    },
    "tags": []
   },
   "outputs": [
    {
     "name": "stdout",
     "output_type": "stream",
     "text": [
      "dict_keys(['data_id', 'fields', 'field_rs', 'text', 'label', 'coord', 'vertical', 'img_sz', 'img_feature', 'img_url'])\n"
     ]
    }
   ],
   "source": [
    "# json_string = json.dumps(raw_data[0], indent=4)\n",
    "# print(json_string)\n",
    "\n",
    "data = raw_data[0]\n",
    "print(data.keys())\n",
    "text = data[\"text\"]\n",
    "fields = data[\"fields\"]\n",
    "field_rs = data[\"field_rs\"]\n",
    "vertical = data[\"vertical\"]\n",
    "label = np.array(data[\"label\"])\n",
    "coord = np.array(data[\"coord\"])\n",
    "image_size = data[\"img_sz\"]\n",
    "\n",
    "n_fields = len(fields)"
   ]
  },
  {
   "cell_type": "code",
   "execution_count": 5,
   "id": "85292c6d-b5ed-4675-8ed0-58f145607269",
   "metadata": {
    "execution": {
     "iopub.execute_input": "2024-01-16T02:52:41.487355Z",
     "iopub.status.busy": "2024-01-16T02:52:41.487197Z",
     "iopub.status.idle": "2024-01-16T02:52:41.498039Z",
     "shell.execute_reply": "2024-01-16T02:52:41.497442Z",
     "shell.execute_reply.started": "2024-01-16T02:52:41.487340Z"
    },
    "tags": []
   },
   "outputs": [
    {
     "name": "stdout",
     "output_type": "stream",
     "text": [
      "n_fields: 41\n",
      "n_texts: 9\n",
      "(2, 50, 9)\n",
      "(9, 4, 2)\n",
      "9\n",
      "{'width': 1108, 'height': 1478}\n"
     ]
    }
   ],
   "source": [
    "print(f\"n_fields: {len(fields)}\")\n",
    "print(f\"n_texts: {len(text)}\")\n",
    "\n",
    "print(label.shape)\n",
    "print(coord.shape)\n",
    "print(len(vertical))\n",
    "# print(coord)\n",
    "print(image_size)"
   ]
  },
  {
   "cell_type": "code",
   "execution_count": 6,
   "id": "7a80ed88-1a92-400a-aa6c-1e61e1c58e7b",
   "metadata": {
    "execution": {
     "iopub.execute_input": "2024-01-16T02:52:41.498942Z",
     "iopub.status.busy": "2024-01-16T02:52:41.498751Z",
     "iopub.status.idle": "2024-01-16T02:52:41.504485Z",
     "shell.execute_reply": "2024-01-16T02:52:41.503775Z",
     "shell.execute_reply.started": "2024-01-16T02:52:41.498925Z"
    },
    "tags": []
   },
   "outputs": [
    {
     "name": "stdout",
     "output_type": "stream",
     "text": [
      "[[[ 250  833]\n",
      "  [ 325  834]\n",
      "  [ 325  869]\n",
      "  [ 250  868]]\n",
      "\n",
      " [[ 340  832]\n",
      "  [ 434  833]\n",
      "  [ 433  868]\n",
      "  [ 339  867]]\n",
      "\n",
      " [[ 217  835]\n",
      "  [ 227  834]\n",
      "  [ 228  869]\n",
      "  [ 217  869]]\n",
      "\n",
      " [[ 841  824]\n",
      "  [ 954  824]\n",
      "  [ 954  864]\n",
      "  [ 841  864]]\n",
      "\n",
      " [[ 249  921]\n",
      "  [ 342  920]\n",
      "  [ 344  990]\n",
      "  [ 249  992]]\n",
      "\n",
      " [[ 844  920]\n",
      "  [ 959  920]\n",
      "  [ 959  991]\n",
      "  [ 844  991]]\n",
      "\n",
      " [[ 173 1045]\n",
      "  [ 326 1044]\n",
      "  [ 326 1111]\n",
      "  [ 173 1114]]\n",
      "\n",
      " [[ 733 1041]\n",
      "  [ 960 1041]\n",
      "  [ 960 1117]\n",
      "  [ 733 1117]]\n",
      "\n",
      " [[ 212  925]\n",
      "  [ 230  926]\n",
      "  [ 227  993]\n",
      "  [ 213  994]]]\n"
     ]
    }
   ],
   "source": [
    "print(coord)"
   ]
  },
  {
   "cell_type": "code",
   "execution_count": 7,
   "id": "651e907e-d64b-45e6-b232-23de2181036e",
   "metadata": {
    "execution": {
     "iopub.execute_input": "2024-01-16T02:52:41.505281Z",
     "iopub.status.busy": "2024-01-16T02:52:41.505122Z",
     "iopub.status.idle": "2024-01-16T02:52:41.512966Z",
     "shell.execute_reply": "2024-01-16T02:52:41.512401Z",
     "shell.execute_reply.started": "2024-01-16T02:52:41.505266Z"
    },
    "tags": []
   },
   "outputs": [
    {
     "data": {
      "text/plain": [
       "'type1'"
      ]
     },
     "execution_count": 7,
     "metadata": {},
     "output_type": "execute_result"
    }
   ],
   "source": [
    "cfg.raw_data_input_type"
   ]
  },
  {
   "cell_type": "code",
   "execution_count": 8,
   "id": "d671a881-84b9-4b41-93e2-f3ea4945ff93",
   "metadata": {
    "execution": {
     "iopub.execute_input": "2024-01-16T02:52:41.513728Z",
     "iopub.status.busy": "2024-01-16T02:52:41.513568Z",
     "iopub.status.idle": "2024-01-16T02:52:41.789648Z",
     "shell.execute_reply": "2024-01-16T02:52:41.788814Z",
     "shell.execute_reply.started": "2024-01-16T02:52:41.513713Z"
    },
    "tags": []
   },
   "outputs": [],
   "source": [
    "data_module = SpadeDataModule(cfg)"
   ]
  },
  {
   "cell_type": "code",
   "execution_count": 9,
   "id": "3ce5a9ab-7c1f-43c0-8609-cd0e35345b2c",
   "metadata": {
    "execution": {
     "iopub.execute_input": "2024-01-16T02:52:41.790863Z",
     "iopub.status.busy": "2024-01-16T02:52:41.790632Z",
     "iopub.status.idle": "2024-01-16T02:52:41.794682Z",
     "shell.execute_reply": "2024-01-16T02:52:41.793997Z",
     "shell.execute_reply.started": "2024-01-16T02:52:41.790825Z"
    },
    "tags": []
   },
   "outputs": [
    {
     "name": "stdout",
     "output_type": "stream",
     "text": [
      "['안', '##녕', '##하', '##세', '##요', '.']\n"
     ]
    }
   ],
   "source": [
    "input_text = \"안녕하세요.\"\n",
    "tokenizer = data_module.tokenizer\n",
    "input_tokens = tokenizer.tokenize(input_text)\n",
    "\n",
    "print(input_tokens)"
   ]
  },
  {
   "cell_type": "code",
   "execution_count": 10,
   "id": "724bfdf5-59cd-4a7a-a461-7f79d49dc38c",
   "metadata": {
    "execution": {
     "iopub.execute_input": "2024-01-16T02:52:41.796774Z",
     "iopub.status.busy": "2024-01-16T02:52:41.796586Z",
     "iopub.status.idle": "2024-01-16T02:52:42.801423Z",
     "shell.execute_reply": "2024-01-16T02:52:42.800656Z",
     "shell.execute_reply.started": "2024-01-16T02:52:41.796756Z"
    },
    "tags": []
   },
   "outputs": [
    {
     "name": "stdout",
     "output_type": "stream",
     "text": [
      "type1\n",
      "type1\n",
      "['안', '##녕', '##하', '##세', '##요', '.']\n"
     ]
    }
   ],
   "source": [
    "# pytorch Dataset object\n",
    "train_data, dev_data = data_module._prepare_train_data()\n",
    "\n",
    "# text token augmentation\n",
    "input_tokens_aug = du.gen_augmented_text_tok1(\n",
    "    train_data.token_pool, input_tokens, train_data.token_aug_param\n",
    ")\n",
    "\n",
    "print(input_tokens_aug)\n",
    "\n",
    "# 이 정도 결과면 augmentation 안하는게 나을거 같은데.."
   ]
  },
  {
   "cell_type": "code",
   "execution_count": 11,
   "id": "e7120362-81e4-4def-9527-098ef494e7bb",
   "metadata": {
    "execution": {
     "iopub.execute_input": "2024-01-16T02:52:42.802484Z",
     "iopub.status.busy": "2024-01-16T02:52:42.802304Z",
     "iopub.status.idle": "2024-01-16T02:52:42.807454Z",
     "shell.execute_reply": "2024-01-16T02:52:42.806681Z",
     "shell.execute_reply.started": "2024-01-16T02:52:42.802465Z"
    },
    "tags": []
   },
   "outputs": [],
   "source": [
    "_, coord = du.gen_augmented_coord(\n",
    "    img=None, coord=coord, img_sz=image_size, coord_aug_params=train_data.coord_aug_params, clip_box_coord=True\n",
    ")"
   ]
  },
  {
   "cell_type": "code",
   "execution_count": 12,
   "id": "3752705a-f63a-4885-9f68-a477150cc3c1",
   "metadata": {
    "execution": {
     "iopub.execute_input": "2024-01-16T02:52:42.808502Z",
     "iopub.status.busy": "2024-01-16T02:52:42.808334Z",
     "iopub.status.idle": "2024-01-16T02:52:42.815526Z",
     "shell.execute_reply": "2024-01-16T02:52:42.814788Z",
     "shell.execute_reply.started": "2024-01-16T02:52:42.808486Z"
    },
    "tags": []
   },
   "outputs": [
    {
     "name": "stdout",
     "output_type": "stream",
     "text": [
      "(9, 4, 2)\n"
     ]
    }
   ],
   "source": [
    "print(np.array(coord).shape)"
   ]
  },
  {
   "cell_type": "code",
   "execution_count": 13,
   "id": "39010e39-38ce-48c9-a33e-08b72fa7de52",
   "metadata": {
    "execution": {
     "iopub.execute_input": "2024-01-16T02:52:42.816467Z",
     "iopub.status.busy": "2024-01-16T02:52:42.816309Z",
     "iopub.status.idle": "2024-01-16T02:52:42.822685Z",
     "shell.execute_reply": "2024-01-16T02:52:42.822126Z",
     "shell.execute_reply.started": "2024-01-16T02:52:42.816451Z"
    },
    "tags": []
   },
   "outputs": [
    {
     "data": {
      "text/plain": [
       "array([1, 2, 3, 1, 2, 3])"
      ]
     },
     "execution_count": 13,
     "metadata": {},
     "output_type": "execute_result"
    }
   ],
   "source": [
    "arr = np.array([1,2,3,0,1,2,3,0])\n",
    "arr[arr != 0]"
   ]
  },
  {
   "cell_type": "code",
   "execution_count": 16,
   "id": "c037eca2-73b7-463a-b084-e5abc4832d3d",
   "metadata": {
    "execution": {
     "iopub.execute_input": "2024-01-16T02:53:06.420061Z",
     "iopub.status.busy": "2024-01-16T02:53:06.419233Z",
     "iopub.status.idle": "2024-01-16T02:53:06.425637Z",
     "shell.execute_reply": "2024-01-16T02:53:06.425009Z",
     "shell.execute_reply.started": "2024-01-16T02:53:06.420038Z"
    },
    "tags": []
   },
   "outputs": [
    {
     "name": "stdout",
     "output_type": "stream",
     "text": [
      "450\n",
      "[0 1 0 0 0 0 0 0 0]\n"
     ]
    },
    {
     "data": {
      "text/plain": [
       "(array([1]),)"
      ]
     },
     "execution_count": 16,
     "metadata": {},
     "output_type": "execute_result"
    }
   ],
   "source": [
    "row_pointer = n_fields\n",
    "rel_idx = 1 \n",
    "label_sub = label[0]\n",
    "\n",
    "print(label_sub[row_pointer])\n",
    "\n",
    "np.where(label_sub[row_pointer] == rel_idx)"
   ]
  },
  {
   "cell_type": "code",
   "execution_count": null,
   "id": "285a8716-9e2e-490d-b145-cb8488fcf73a",
   "metadata": {},
   "outputs": [],
   "source": []
  }
 ],
 "metadata": {
  "kernelspec": {
   "display_name": "spade",
   "language": "python",
   "name": "spade"
  },
  "language_info": {
   "codemirror_mode": {
    "name": "ipython",
    "version": 3
   },
   "file_extension": ".py",
   "mimetype": "text/x-python",
   "name": "python",
   "nbconvert_exporter": "python",
   "pygments_lexer": "ipython3",
   "version": "3.9.6"
  }
 },
 "nbformat": 4,
 "nbformat_minor": 5
}
